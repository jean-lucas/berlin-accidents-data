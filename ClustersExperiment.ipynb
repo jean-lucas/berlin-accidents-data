{
 "cells": [
  {
   "cell_type": "code",
   "execution_count": 1,
   "metadata": {},
   "outputs": [],
   "source": [
    "import copy\n",
    "import os\n",
    "\n",
    "import pandas as pd\n",
    "import geopandas as  gpd\n",
    "import psycopg2\n",
    "import ipyleaflet as leaflet\n",
    "import ipywidgets as widgets\n",
    "from ipywidgets import interact, interactive, fixed, interact_manual\n"
   ]
  },
  {
   "cell_type": "code",
   "execution_count": 2,
   "metadata": {},
   "outputs": [],
   "source": [
    "def connect():\n",
    "    return psycopg2.connect(\n",
    "        host=\"localhost\",\n",
    "        database=\"berlin_accidents\",\n",
    "        user=\"postgres\",\n",
    "        password=os.getenv(\"DB_PASS\")\n",
    "    )\n",
    "conn = connect()"
   ]
  },
  {
   "cell_type": "code",
   "execution_count": 3,
   "metadata": {},
   "outputs": [],
   "source": [
    "def dbscan_cmd(eps=0.0015, minPoints=10):\n",
    "    dbscan = f\"\"\"\n",
    "    SELECT st_setsrid(st_convexhull(st_collect(pt_geom)),4326) as geom, cluster_id\n",
    "    FROM (\n",
    "        SELECT objectid, pt_geom, ST_ClusterDBSCAN(pt_geom, eps := {eps}, minPoints := {minPoints})\n",
    "            OVER() AS cluster_id FROM accidents\n",
    "    ) sub\n",
    "    where cluster_id is not null\n",
    "    group by cluster_id\n",
    "    \"\"\"\n",
    "    return dbscan\n",
    "\n",
    "\n",
    "def within_cmd(distance=0.0015, minPoints=2):\n",
    "    within = f\"\"\"\n",
    "    SELECT st_setsrid(st_convexhull(sub.gc), 4326) as geom\n",
    "        FROM (\n",
    "            SELECT unnest(ST_ClusterWithin(pt_geom, {distance})) as gc\n",
    "            FROM accidents\n",
    "        ) as sub\n",
    "        WHERE ST_NumGeometries(sub.gc) >= {minPoints}\n",
    "    \"\"\"\n",
    "    return within\n",
    "    "
   ]
  },
  {
   "cell_type": "code",
   "execution_count": 4,
   "metadata": {},
   "outputs": [],
   "source": [
    "def plot_map(data):\n",
    "    m = leaflet.Map(center=(52.5200, 13.4050), zoom=12, basemap=leaflet.basemaps.OpenStreetMap.BlackAndWhite)\n",
    "    m.add_control(leaflet.LayersControl())\n",
    "    geo_data = leaflet.GeoData(geo_dataframe = data)\n",
    "    m.add_layer(geo_data)\n",
    "    return copy.copy(m)"
   ]
  },
  {
   "cell_type": "code",
   "execution_count": 14,
   "metadata": {
    "scrolled": false
   },
   "outputs": [],
   "source": [
    "def _interact_dbscan_cluster(eps, minPoints):\n",
    "    eps = eps/1000\n",
    "    print(eps, minPoints)\n",
    "    d = gpd.read_postgis(dbscan_cmd(eps, minPoints), conn, crs=4326)\n",
    "    return plot_map(d)\n",
    "\n",
    "\n",
    "def _interact_within_cluster(eps, minPoints):\n",
    "    eps = eps/1000\n",
    "    print(eps, minPoints)\n",
    "    d = gpd.read_postgis(within_cmd(eps, minPoints), conn, crs=4326)\n",
    "    return plot_map(d)\n"
   ]
  },
  {
   "cell_type": "code",
   "execution_count": 12,
   "metadata": {
    "scrolled": false
   },
   "outputs": [
    {
     "data": {
      "application/vnd.jupyter.widget-view+json": {
       "model_id": "a2505ffdd97745dcaf78e0b0ad9f59ba",
       "version_major": 2,
       "version_minor": 0
      },
      "text/plain": [
       "interactive(children=(FloatSlider(value=2.0, description='eps', max=3.0, min=0.1, step=0.05), IntSlider(value=…"
      ]
     },
     "metadata": {},
     "output_type": "display_data"
    },
    {
     "data": {
      "application/vnd.jupyter.widget-view+json": {
       "model_id": "2df4e5f9e7b2415f9644c5e8bc5251aa",
       "version_major": 2,
       "version_minor": 0
      },
      "text/plain": [
       "interactive(children=(FloatSlider(value=2.0, description='eps', max=3.0, min=0.1, step=0.05), IntSlider(value=…"
      ]
     },
     "metadata": {},
     "output_type": "display_data"
    }
   ],
   "source": [
    "dbscan_interact = interact_manual(\n",
    "    _interact_dbscan_cluster,\n",
    "    eps=widgets.FloatSlider(min=0.1, max=3, step=0.05, value=2),\n",
    "    minPoints=widgets.IntSlider(min=1, max=100, step=3, value=5))\n",
    "\n",
    "within_interact = interact_manual(\n",
    "    _interact_within_cluster,\n",
    "    eps=widgets.FloatSlider(min=0.1, max=3, step=0.05, value=2),\n",
    "    minPoints=widgets.IntSlider(min=1, max=100, step=1, value=5))\n",
    "\n"
   ]
  },
  {
   "cell_type": "code",
   "execution_count": 13,
   "metadata": {
    "scrolled": false
   },
   "outputs": [
    {
     "data": {
      "application/vnd.jupyter.widget-view+json": {
       "model_id": "008f399072ef4026811462309b7a3709",
       "version_major": 2,
       "version_minor": 0
      },
      "text/plain": [
       "Box(children=(interactive(children=(FloatSlider(value=2.0, description='eps', max=3.0, min=0.1, step=0.05), In…"
      ]
     },
     "metadata": {},
     "output_type": "display_data"
    }
   ],
   "source": [
    "from ipywidgets import Layout, Button, Box\n",
    "\n",
    "box_layout = Layout(\n",
    "    display='flex',\n",
    "    flex_flow='row',\n",
    "    border='solid',\n",
    "    align_items='stretch',\n",
    "    justify_content='space-around',\n",
    "    width='100%'\n",
    ")\n",
    "\n",
    "items = [dbscan_interact.widget, within_interact.widget]\n",
    "\n",
    "box = Box(children=items, layout=box_layout)\n",
    "box"
   ]
  },
  {
   "cell_type": "code",
   "execution_count": null,
   "metadata": {},
   "outputs": [],
   "source": []
  },
  {
   "cell_type": "code",
   "execution_count": null,
   "metadata": {},
   "outputs": [],
   "source": []
  },
  {
   "cell_type": "code",
   "execution_count": null,
   "metadata": {},
   "outputs": [],
   "source": []
  }
 ],
 "metadata": {
  "kernelspec": {
   "display_name": "Python 3",
   "language": "python",
   "name": "python3"
  },
  "language_info": {
   "codemirror_mode": {
    "name": "ipython",
    "version": 3
   },
   "file_extension": ".py",
   "mimetype": "text/x-python",
   "name": "python",
   "nbconvert_exporter": "python",
   "pygments_lexer": "ipython3",
   "version": "3.8.0"
  }
 },
 "nbformat": 4,
 "nbformat_minor": 2
}
